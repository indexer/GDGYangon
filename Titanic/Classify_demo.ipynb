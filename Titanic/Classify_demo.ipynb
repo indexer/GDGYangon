{
 "cells": [
  {
   "cell_type": "code",
   "execution_count": 1,
   "metadata": {
    "collapsed": true
   },
   "outputs": [],
   "source": [
    "import random\n",
    "import pandas\n",
    "import numpy as np\n",
    "\n",
    "import tensorflow as tf\n",
    "from tensorflow.contrib import layers\n",
    "from tensorflow.contrib import learn"
   ]
  },
  {
   "cell_type": "markdown",
   "metadata": {},
   "source": [
    "## Read Data\n",
    "\n",
    "- Read CSV file and print out 5 random examples"
   ]
  },
  {
   "cell_type": "code",
   "execution_count": 2,
   "metadata": {
    "collapsed": false
   },
   "outputs": [
    {
     "data": {
      "text/html": [
       "<div>\n",
       "<table border=\"1\" class=\"dataframe\">\n",
       "  <thead>\n",
       "    <tr style=\"text-align: right;\">\n",
       "      <th></th>\n",
       "      <th>survived</th>\n",
       "      <th>pclass</th>\n",
       "      <th>name</th>\n",
       "      <th>sex</th>\n",
       "      <th>age</th>\n",
       "      <th>sibsp</th>\n",
       "      <th>parch</th>\n",
       "      <th>ticket</th>\n",
       "      <th>fare</th>\n",
       "    </tr>\n",
       "  </thead>\n",
       "  <tbody>\n",
       "    <tr>\n",
       "      <th>pclass</th>\n",
       "      <td>NaN</td>\n",
       "      <td>NaN</td>\n",
       "      <td>NaN</td>\n",
       "      <td>NaN</td>\n",
       "      <td>NaN</td>\n",
       "      <td>NaN</td>\n",
       "      <td>NaN</td>\n",
       "      <td>NaN</td>\n",
       "      <td>NaN</td>\n",
       "    </tr>\n",
       "    <tr>\n",
       "      <th>survived</th>\n",
       "      <td>NaN</td>\n",
       "      <td>NaN</td>\n",
       "      <td>NaN</td>\n",
       "      <td>NaN</td>\n",
       "      <td>NaN</td>\n",
       "      <td>NaN</td>\n",
       "      <td>NaN</td>\n",
       "      <td>NaN</td>\n",
       "      <td>NaN</td>\n",
       "    </tr>\n",
       "    <tr>\n",
       "      <th>sibsp</th>\n",
       "      <td>NaN</td>\n",
       "      <td>NaN</td>\n",
       "      <td>NaN</td>\n",
       "      <td>NaN</td>\n",
       "      <td>NaN</td>\n",
       "      <td>NaN</td>\n",
       "      <td>NaN</td>\n",
       "      <td>NaN</td>\n",
       "      <td>NaN</td>\n",
       "    </tr>\n",
       "    <tr>\n",
       "      <th>name</th>\n",
       "      <td>NaN</td>\n",
       "      <td>NaN</td>\n",
       "      <td>NaN</td>\n",
       "      <td>NaN</td>\n",
       "      <td>NaN</td>\n",
       "      <td>NaN</td>\n",
       "      <td>NaN</td>\n",
       "      <td>NaN</td>\n",
       "      <td>NaN</td>\n",
       "    </tr>\n",
       "    <tr>\n",
       "      <th>fare</th>\n",
       "      <td>NaN</td>\n",
       "      <td>NaN</td>\n",
       "      <td>NaN</td>\n",
       "      <td>NaN</td>\n",
       "      <td>NaN</td>\n",
       "      <td>NaN</td>\n",
       "      <td>NaN</td>\n",
       "      <td>NaN</td>\n",
       "      <td>NaN</td>\n",
       "    </tr>\n",
       "  </tbody>\n",
       "</table>\n",
       "</div>"
      ],
      "text/plain": [
       "          survived  pclass name  sex  age  sibsp  parch ticket  fare\n",
       "pclass         NaN     NaN  NaN  NaN  NaN    NaN    NaN    NaN   NaN\n",
       "survived       NaN     NaN  NaN  NaN  NaN    NaN    NaN    NaN   NaN\n",
       "sibsp          NaN     NaN  NaN  NaN  NaN    NaN    NaN    NaN   NaN\n",
       "name           NaN     NaN  NaN  NaN  NaN    NaN    NaN    NaN   NaN\n",
       "fare           NaN     NaN  NaN  NaN  NaN    NaN    NaN    NaN   NaN"
      ]
     },
     "execution_count": 2,
     "metadata": {},
     "output_type": "execute_result"
    }
   ],
   "source": [
    "random.seed(42)\n",
    "\n",
    "data = pandas.read_csv('titanic_dataset.csv')\n",
    "rows = random.sample(list(data), 5)\n",
    "\n",
    "data.ix[rows]"
   ]
  },
  {
   "cell_type": "markdown",
   "metadata": {},
   "source": [
    "## Preprocess Data\n",
    "\n",
    "- Removed name and ticket ID as they won't help much in prediction"
   ]
  },
  {
   "cell_type": "code",
   "execution_count": 14,
   "metadata": {
    "collapsed": false
   },
   "outputs": [],
   "source": [
    "def preprocess(data):\n",
    "    train = data.drop(['survived', 'name', 'ticket'], axis=1).values\n",
    "    \n",
    "    for i in range(len(train)):\n",
    "        train[i][1] = 1. if train[i][1] == 'female' else 0\n",
    "   \n",
    "    return train"
   ]
  },
  {
   "cell_type": "code",
   "execution_count": 15,
   "metadata": {
    "collapsed": false
   },
   "outputs": [],
   "source": [
    "#Prepare training data\n",
    "x_train  = preprocess(data)\n",
    "y_train = data['survived']"
   ]
  },
  {
   "cell_type": "markdown",
   "metadata": {},
   "source": [
    "## Define and train the model"
   ]
  },
  {
   "cell_type": "code",
   "execution_count": 34,
   "metadata": {
    "collapsed": false,
    "scrolled": true
   },
   "outputs": [
    {
     "name": "stderr",
     "output_type": "stream",
     "text": [
      "WARNING:tensorflow:float64 is not supported by many models, consider casting to float32.\n",
      "WARNING:tensorflow:Change warning: default value of `enable_centered_bias` will change after 2016-10-09. It will be disabled by default.Instructions for keeping existing behaviour:\n",
      "Explicitly set `enable_centered_bias` to 'True' if you want to keep existing behaviour.\n",
      "WARNING:tensorflow:Using default config.\n",
      "WARNING:tensorflow:float64 is not supported by many models, consider casting to float32.\n",
      "WARNING:tensorflow:tf.variable_op_scope(values, name, default_name) is deprecated, use tf.variable_scope(name, default_name, values)\n"
     ]
    },
    {
     "data": {
      "text/plain": [
       "Estimator(params={'joint_weights': False, 'num_ps_replicas': 0, 'gradient_clip_norm': None, 'feature_columns': [_RealValuedColumn(column_name='', dimension=6, default_value=None, dtype=tf.float64, normalizer=None)], 'enable_centered_bias': True, 'n_classes': 2, 'weight_column_name': None, 'optimizer': <tensorflow.python.training.gradient_descent.GradientDescentOptimizer object at 0x7f9c09d027f0>})"
      ]
     },
     "execution_count": 34,
     "metadata": {},
     "output_type": "execute_result"
    }
   ],
   "source": [
    "\n",
    "classifier = learn.LinearClassifier(n_classes=2, \n",
    "                                    feature_columns=learn.infer_real_valued_columns_from_input(x_train), \n",
    "                                    optimizer=tf.train.GradientDescentOptimizer(learning_rate=0.05),\n",
    "                                   model_dir='model')\n",
    "\n",
    "classifier.fit(x_train, y_train, batch_size=128, steps=500)\n"
   ]
  },
  {
   "cell_type": "markdown",
   "metadata": {},
   "source": [
    "## Let's Predict if the survival chances of our beloved Rose & Jack !!\n",
    "\n",
    "**Jack** , **19** year old, is **male**, a **3rd** class ticket holder and let's say his ticket fare is **$5**.\n",
    "No Siblings, spouse nor parents aboard.\n",
    "\n",
    "**Rose** , **17** year old, is **female**, a 1st class passenger who holds an expensive **$100** ticket.\n",
    "Rose's parents and fiance are aboard.\n",
    "\n",
    "Let's predict the survival of Cal too! <br/>\n",
    "**Cal** , Rose's **fiance**, is **30** year old, **male**, **1st class** passenger and holds **$100** ticket."
   ]
  },
  {
   "cell_type": "code",
   "execution_count": 6,
   "metadata": {
    "collapsed": true
   },
   "outputs": [],
   "source": [
    "#class, gender, age, sibling/spouse, parents, fare\n",
    "Jack = [3,0.0, 19, 0, 0, 5.0000]\n",
    "Rose = [1, 1.0, 17, 1, 2, 100.0000]\n",
    "Cal = [1, 0.0, 30, 1, 0, 100.0]"
   ]
  },
  {
   "cell_type": "code",
   "execution_count": 7,
   "metadata": {
    "collapsed": false
   },
   "outputs": [
    {
     "name": "stderr",
     "output_type": "stream",
     "text": [
      "WARNING:tensorflow:Calling BaseEstimator.predict (from tensorflow.contrib.learn.python.learn.estimators.estimator) with as_iterable=False is deprecated and will be removed after 2016-09-15.\n",
      "Instructions for updating:\n",
      "The default behavior of predict() is changing. The default value for\n",
      "as_iterable will change to True, and then the flag will be removed\n",
      "altogether. The behavior of this flag is described below.\n",
      "WARNING:tensorflow:float64 is not supported by many models, consider casting to float32.\n",
      "WARNING:tensorflow:tf.variable_op_scope(values, name, default_name) is deprecated, use tf.variable_scope(name, default_name, values)\n",
      "WARNING:tensorflow:Calling BaseEstimator.predict (from tensorflow.contrib.learn.python.learn.estimators.estimator) with as_iterable=False is deprecated and will be removed after 2016-09-15.\n",
      "Instructions for updating:\n",
      "The default behavior of predict() is changing. The default value for\n",
      "as_iterable will change to True, and then the flag will be removed\n",
      "altogether. The behavior of this flag is described below.\n",
      "WARNING:tensorflow:float64 is not supported by many models, consider casting to float32.\n",
      "WARNING:tensorflow:tf.variable_op_scope(values, name, default_name) is deprecated, use tf.variable_scope(name, default_name, values)\n"
     ]
    }
   ],
   "source": [
    "test = np.array([Jack, Rose, Cal])\n",
    "pred = classifier.predict(test)\n",
    "prob = classifier.predict_proba(test)"
   ]
  },
  {
   "cell_type": "code",
   "execution_count": 8,
   "metadata": {
    "collapsed": false
   },
   "outputs": [
    {
     "name": "stdout",
     "output_type": "stream",
     "text": [
      "Will Jack Survive? No\n",
      "Will Rose Survive? Yes\n",
      "Will Cal Survive? Yes\n",
      "\n",
      "Jack's Surviving Chance: 0.084907%\n",
      "Rose's Surviving Chance: 100.000000%\n",
      "Cal's Surviving Chance: 99.999988%\n"
     ]
    }
   ],
   "source": [
    "answer = ['No', 'Yes']\n",
    "print(\"Will Jack Survive? %s\" % answer[pred[0]])\n",
    "print(\"Will Rose Survive? %s\" % answer[pred[1]])\n",
    "print(\"Will Cal Survive? %s\" % answer[pred[2]])\n",
    "\n",
    "print(\"\\nJack's Surviving Chance: %f%%\" % (prob[0][1]*100))\n",
    "print(\"Rose's Surviving Chance: %f%%\" % (prob[1][1]*100))\n",
    "print(\"Cal's Surviving Chance: %f%%\" % (prob[2][1]*100))"
   ]
  },
  {
   "cell_type": "code",
   "execution_count": null,
   "metadata": {
    "collapsed": true
   },
   "outputs": [],
   "source": []
  }
 ],
 "metadata": {
  "kernelspec": {
   "display_name": "Python 3",
   "language": "python",
   "name": "python3"
  },
  "language_info": {
   "codemirror_mode": {
    "name": "ipython",
    "version": 3
   },
   "file_extension": ".py",
   "mimetype": "text/x-python",
   "name": "python",
   "nbconvert_exporter": "python",
   "pygments_lexer": "ipython3",
   "version": "3.5.2"
  }
 },
 "nbformat": 4,
 "nbformat_minor": 1
}
